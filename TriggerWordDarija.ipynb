{
 "cells": [
  {
   "cell_type": "code",
   "execution_count": null,
   "metadata": {
    "colab": {
     "base_uri": "https://localhost:8080/"
    },
    "executionInfo": {
     "elapsed": 14785,
     "status": "ok",
     "timestamp": 1608904156592,
     "user": {
      "displayName": "Abderrahmane HAJJI",
      "photoUrl": "",
      "userId": "15675344311234361853"
     },
     "user_tz": -60
    },
    "id": "1g6Q05jEJ0Vk",
    "outputId": "265329a2-4643-4405-df29-f47f8f484f46"
   },
   "outputs": [
    {
     "name": "stdout",
     "output_type": "stream",
     "text": [
      "Mounted at /content/mydrive\n"
     ]
    }
   ],
   "source": [
    "# importing necessary libraries and dependencies\n",
    "import os\n",
    "import numpy as np\n",
    "import pandas as pd\n",
    "import matplotlib.pyplot as plt\n",
    "import librosa\n",
    "from sklearn.preprocessing import LabelEncoder\n",
    "from keras.utils.np_utils import to_categorical\n",
    "from keras.models import Sequential\n",
    "from keras.layers import Dense, Dropout, Activation\n",
    "from keras.optimizers import Adam\n",
    "from sklearn.model_selection import train_test_split\n",
    "from sklearn import metrics\n",
    "from google.colab import drive\n",
    "drive.mount(\"/content/mydrive\")"
   ]
  },
  {
   "cell_type": "code",
   "execution_count": null,
   "metadata": {
    "collapsed": true,
    "id": "zSe6pbTiJ0Vn"
   },
   "outputs": [],
   "source": [
    "train_data_dir = '/data/train'\n",
    "test_data_dir = '/data/test'\n",
    "\n",
    "# reading the labels\n",
    "train = pd.read_csv('/train.csv')\n",
    "test  = pd.read_csv('/test.csv')"
   ]
  },
  {
   "cell_type": "code",
   "execution_count": null,
   "metadata": {
    "collapsed": true,
    "id": "rPwhB2vJJ0Vo"
   },
   "outputs": [],
   "source": [
    "# function to load files and extract features\n",
    "def parser(row, data_dir):\n",
    "    # setting path\n",
    "    file_name = os.path.join(data_dir,str(row.id)+'.wav')\n",
    "    print(file_name)\n",
    "    # check if the file is corrupted\n",
    "    try:\n",
    "        # here kaiser_fast is a technique used for faster extraction\n",
    "        # X-> audio_time_series_data; sample_rate-> sampling rate\n",
    "        X, sample_rate = librosa.load(file_name, res_type='kaiser_fast')\n",
    "        \n",
    "        # extraccting Mel-Frequeny Cepstral Coeficients feature from data\n",
    "        # y -> accepts time-series audio data; sr -> accepts sampling rate\n",
    "        # n_mfccs -> no. of MFCCs to return\n",
    "        mfccs = np.mean(librosa.feature.mfcc(y=X, sr=sample_rate, n_mfcc=40).T, axis = 0)\n",
    "    \n",
    "    except Exception as e:\n",
    "        print(\"Error encountered while parsing file: \", e)\n",
    "        return None, None\n",
    "    \n",
    "    # store mfccs features\n",
    "    feature = mfccs\n",
    "    # store the respective id\n",
    "    data_id = row.id\n",
    "    \n",
    "    return [data_id, feature]"
   ]
  },
  {
   "cell_type": "markdown",
   "metadata": {
    "collapsed": true,
    "id": "BiVf5GZtJ0Vo"
   },
   "source": [
    "### Reading train.csv and storing into temp"
   ]
  },
  {
   "cell_type": "code",
   "execution_count": null,
   "metadata": {
    "id": "nYCmT3dyJ0Vo",
    "scrolled": true
   },
   "outputs": [],
   "source": [
    "# parsing train\n",
    "tempN = train.apply(parser,axis=1,data_dir=train_data_dir)\n"
   ]
  },
  {
   "cell_type": "code",
   "execution_count": null,
   "metadata": {
    "id": "xfWDFgBPLREA"
   },
   "outputs": [],
   "source": [
    "temp=tempN.copy()"
   ]
  },
  {
   "cell_type": "code",
   "execution_count": null,
   "metadata": {
    "id": "Vib5SY5xLgT6"
   },
   "outputs": [],
   "source": [
    "temp.columns=[\"id\",\"features\"]"
   ]
  },
  {
   "cell_type": "code",
   "execution_count": null,
   "metadata": {
    "id": "mQDpBRezLFuF"
   },
   "outputs": [],
   "source": [
    "temp = pd.DataFrame(temp)"
   ]
  },
  {
   "cell_type": "code",
   "execution_count": null,
   "metadata": {
    "id": "SHe0jEYiLKc5"
   },
   "outputs": [],
   "source": [
    "temp.columns = ['mix']"
   ]
  },
  {
   "cell_type": "code",
   "execution_count": null,
   "metadata": {
    "colab": {
     "base_uri": "https://localhost:8080/"
    },
    "executionInfo": {
     "elapsed": 716,
     "status": "ok",
     "timestamp": 1608905869352,
     "user": {
      "displayName": "Abderrahmane HAJJI",
      "photoUrl": "",
      "userId": "15675344311234361853"
     },
     "user_tz": -60
    },
    "id": "CNNRabNrLp5P",
    "outputId": "427dc134-89ab-460b-9b2f-b0b79501128b"
   },
   "outputs": [
    {
     "data": {
      "text/plain": [
       "Index(['mix'], dtype='object')"
      ]
     },
     "execution_count": 102,
     "metadata": {
      "tags": []
     },
     "output_type": "execute_result"
    }
   ],
   "source": [
    "temp.keys()"
   ]
  },
  {
   "cell_type": "code",
   "execution_count": null,
   "metadata": {
    "id": "y1DLW8uELvZ0"
   },
   "outputs": [],
   "source": [
    "temp[['id','feature']] = temp['mix'].apply(pd.Series)"
   ]
  },
  {
   "cell_type": "code",
   "execution_count": null,
   "metadata": {
    "colab": {
     "base_uri": "https://localhost:8080/",
     "height": 204
    },
    "executionInfo": {
     "elapsed": 737,
     "status": "ok",
     "timestamp": 1608905870215,
     "user": {
      "displayName": "Abderrahmane HAJJI",
      "photoUrl": "",
      "userId": "15675344311234361853"
     },
     "user_tz": -60
    },
    "id": "R2qfM2rvOZUM",
    "outputId": "aaefd878-c35a-4a2c-8476-6ab04a6a6d0d"
   },
   "outputs": [
    {
     "data": {
      "text/html": [
       "<div>\n",
       "<style scoped>\n",
       "    .dataframe tbody tr th:only-of-type {\n",
       "        vertical-align: middle;\n",
       "    }\n",
       "\n",
       "    .dataframe tbody tr th {\n",
       "        vertical-align: top;\n",
       "    }\n",
       "\n",
       "    .dataframe thead th {\n",
       "        text-align: right;\n",
       "    }\n",
       "</style>\n",
       "<table border=\"1\" class=\"dataframe\">\n",
       "  <thead>\n",
       "    <tr style=\"text-align: right;\">\n",
       "      <th></th>\n",
       "      <th>mix</th>\n",
       "      <th>id</th>\n",
       "      <th>feature</th>\n",
       "    </tr>\n",
       "  </thead>\n",
       "  <tbody>\n",
       "    <tr>\n",
       "      <th>0</th>\n",
       "      <td>[gudj6np7lx4ov5a9y3wq, [-502.8588146625338, 93...</td>\n",
       "      <td>gudj6np7lx4ov5a9y3wq</td>\n",
       "      <td>[-502.8588146625338, 93.47187828877036, 15.821...</td>\n",
       "    </tr>\n",
       "    <tr>\n",
       "      <th>1</th>\n",
       "      <td>[mi2z51y4jb7thxuf8ldr, [-421.46239558740024, 9...</td>\n",
       "      <td>mi2z51y4jb7thxuf8ldr</td>\n",
       "      <td>[-421.46239558740024, 98.7144336661419, -6.114...</td>\n",
       "    </tr>\n",
       "    <tr>\n",
       "      <th>2</th>\n",
       "      <td>[ziuab84tvf07snxjhyodp, [-524.4389819294851, 5...</td>\n",
       "      <td>ziuab84tvf07snxjhyodp</td>\n",
       "      <td>[-524.4389819294851, 59.01710625793562, 0.9220...</td>\n",
       "    </tr>\n",
       "    <tr>\n",
       "      <th>3</th>\n",
       "      <td>[ulcdyxnbz6jqh9wmk4pa, [-198.14777737944377, 9...</td>\n",
       "      <td>ulcdyxnbz6jqh9wmk4pa</td>\n",
       "      <td>[-198.14777737944377, 96.0932068978766, -105.6...</td>\n",
       "    </tr>\n",
       "    <tr>\n",
       "      <th>4</th>\n",
       "      <td>[gj8rfxzae4vibtohk62n1, [-701.8954705857151, 3...</td>\n",
       "      <td>gj8rfxzae4vibtohk62n1</td>\n",
       "      <td>[-701.8954705857151, 35.878109971314196, -3.34...</td>\n",
       "    </tr>\n",
       "  </tbody>\n",
       "</table>\n",
       "</div>"
      ],
      "text/plain": [
       "                                                 mix  ...                                            feature\n",
       "0  [gudj6np7lx4ov5a9y3wq, [-502.8588146625338, 93...  ...  [-502.8588146625338, 93.47187828877036, 15.821...\n",
       "1  [mi2z51y4jb7thxuf8ldr, [-421.46239558740024, 9...  ...  [-421.46239558740024, 98.7144336661419, -6.114...\n",
       "2  [ziuab84tvf07snxjhyodp, [-524.4389819294851, 5...  ...  [-524.4389819294851, 59.01710625793562, 0.9220...\n",
       "3  [ulcdyxnbz6jqh9wmk4pa, [-198.14777737944377, 9...  ...  [-198.14777737944377, 96.0932068978766, -105.6...\n",
       "4  [gj8rfxzae4vibtohk62n1, [-701.8954705857151, 3...  ...  [-701.8954705857151, 35.878109971314196, -3.34...\n",
       "\n",
       "[5 rows x 3 columns]"
      ]
     },
     "execution_count": 104,
     "metadata": {
      "tags": []
     },
     "output_type": "execute_result"
    }
   ],
   "source": [
    "temp.head()"
   ]
  },
  {
   "cell_type": "code",
   "execution_count": null,
   "metadata": {
    "id": "dkCubLWTQ23i"
   },
   "outputs": [],
   "source": [
    "temp=pd.merge(temp, train, on='id', how='left',validate='many_to_one',right_index=True,left_index=True)"
   ]
  },
  {
   "cell_type": "code",
   "execution_count": null,
   "metadata": {
    "id": "Kdz9J1H1PLpq"
   },
   "outputs": [],
   "source": [
    "temp.drop('mix',axis=1,inplace=True)"
   ]
  },
  {
   "cell_type": "code",
   "execution_count": null,
   "metadata": {
    "colab": {
     "base_uri": "https://localhost:8080/",
     "height": 204
    },
    "executionInfo": {
     "elapsed": 621,
     "status": "ok",
     "timestamp": 1608906160038,
     "user": {
      "displayName": "Abderrahmane HAJJI",
      "photoUrl": "",
      "userId": "15675344311234361853"
     },
     "user_tz": -60
    },
    "id": "iHrWoayyMKa2",
    "outputId": "aeaf5992-d1ab-4f09-c217-7117eb22b409"
   },
   "outputs": [
    {
     "data": {
      "text/html": [
       "<div>\n",
       "<style scoped>\n",
       "    .dataframe tbody tr th:only-of-type {\n",
       "        vertical-align: middle;\n",
       "    }\n",
       "\n",
       "    .dataframe tbody tr th {\n",
       "        vertical-align: top;\n",
       "    }\n",
       "\n",
       "    .dataframe thead th {\n",
       "        text-align: right;\n",
       "    }\n",
       "</style>\n",
       "<table border=\"1\" class=\"dataframe\">\n",
       "  <thead>\n",
       "    <tr style=\"text-align: right;\">\n",
       "      <th></th>\n",
       "      <th>id</th>\n",
       "      <th>feature</th>\n",
       "      <th>label</th>\n",
       "    </tr>\n",
       "  </thead>\n",
       "  <tbody>\n",
       "    <tr>\n",
       "      <th>0</th>\n",
       "      <td>gudj6np7lx4ov5a9y3wq</td>\n",
       "      <td>[-502.8588146625338, 93.47187828877036, 15.821...</td>\n",
       "      <td>1</td>\n",
       "    </tr>\n",
       "    <tr>\n",
       "      <th>1</th>\n",
       "      <td>mi2z51y4jb7thxuf8ldr</td>\n",
       "      <td>[-421.46239558740024, 98.7144336661419, -6.114...</td>\n",
       "      <td>1</td>\n",
       "    </tr>\n",
       "    <tr>\n",
       "      <th>2</th>\n",
       "      <td>ziuab84tvf07snxjhyodp</td>\n",
       "      <td>[-524.4389819294851, 59.01710625793562, 0.9220...</td>\n",
       "      <td>0</td>\n",
       "    </tr>\n",
       "    <tr>\n",
       "      <th>3</th>\n",
       "      <td>ulcdyxnbz6jqh9wmk4pa</td>\n",
       "      <td>[-198.14777737944377, 96.0932068978766, -105.6...</td>\n",
       "      <td>1</td>\n",
       "    </tr>\n",
       "    <tr>\n",
       "      <th>4</th>\n",
       "      <td>gj8rfxzae4vibtohk62n1</td>\n",
       "      <td>[-701.8954705857151, 35.878109971314196, -3.34...</td>\n",
       "      <td>0</td>\n",
       "    </tr>\n",
       "  </tbody>\n",
       "</table>\n",
       "</div>"
      ],
      "text/plain": [
       "                      id  ... label\n",
       "0   gudj6np7lx4ov5a9y3wq  ...     1\n",
       "1   mi2z51y4jb7thxuf8ldr  ...     1\n",
       "2  ziuab84tvf07snxjhyodp  ...     0\n",
       "3   ulcdyxnbz6jqh9wmk4pa  ...     1\n",
       "4  gj8rfxzae4vibtohk62n1  ...     0\n",
       "\n",
       "[5 rows x 3 columns]"
      ]
     },
     "execution_count": 108,
     "metadata": {
      "tags": []
     },
     "output_type": "execute_result"
    }
   ],
   "source": [
    "temp.head()"
   ]
  },
  {
   "cell_type": "markdown",
   "metadata": {
    "id": "xhB9x1OAJ0Vq"
   },
   "source": [
    "###  Reading test.csv and storing into temp_test"
   ]
  },
  {
   "cell_type": "code",
   "execution_count": null,
   "metadata": {
    "id": "tYSE8iD7J0Vq",
    "scrolled": true
   },
   "outputs": [],
   "source": [
    "# parsing test\n",
    "temp_test = test.apply(parser, axis=1,data_dir=test_data_dir)\n",
    "temp_test.columns = ['ID', 'feature']"
   ]
  },
  {
   "cell_type": "code",
   "execution_count": null,
   "metadata": {
    "colab": {
     "base_uri": "https://localhost:8080/"
    },
    "executionInfo": {
     "elapsed": 35461,
     "status": "ok",
     "timestamp": 1608904728417,
     "user": {
      "displayName": "Abderrahmane HAJJI",
      "photoUrl": "",
      "userId": "15675344311234361853"
     },
     "user_tz": -60
    },
    "id": "uKT_AwzVJ0Vr",
    "outputId": "27e5a5d4-cefd-48d5-c0f9-6188dacd38f5"
   },
   "outputs": [
    {
     "data": {
      "text/plain": [
       "pandas.core.frame.DataFrame"
      ]
     },
     "execution_count": 43,
     "metadata": {
      "tags": []
     },
     "output_type": "execute_result"
    }
   ],
   "source": [
    "temp_test = pd.DataFrame(temp_test)\n",
    "type(temp_test)"
   ]
  },
  {
   "cell_type": "code",
   "execution_count": null,
   "metadata": {
    "id": "1ekb1h_eJ0Vr"
   },
   "outputs": [],
   "source": [
    "temp_test.columns = ['mix']"
   ]
  },
  {
   "cell_type": "code",
   "execution_count": null,
   "metadata": {
    "colab": {
     "base_uri": "https://localhost:8080/"
    },
    "executionInfo": {
     "elapsed": 34445,
     "status": "ok",
     "timestamp": 1608904728418,
     "user": {
      "displayName": "Abderrahmane HAJJI",
      "photoUrl": "",
      "userId": "15675344311234361853"
     },
     "user_tz": -60
    },
    "id": "Pj-Mow92J0Vr",
    "outputId": "61c0a545-9584-476d-cf96-e427879fb409"
   },
   "outputs": [
    {
     "data": {
      "text/plain": [
       "Index(['mix'], dtype='object')"
      ]
     },
     "execution_count": 45,
     "metadata": {
      "tags": []
     },
     "output_type": "execute_result"
    }
   ],
   "source": [
    "temp_test.keys()"
   ]
  },
  {
   "cell_type": "code",
   "execution_count": null,
   "metadata": {
    "id": "i54WzyqyJ0Vr"
   },
   "outputs": [],
   "source": [
    "temp_test[['ID','feature']] = temp_test['mix'].apply(pd.Series)"
   ]
  },
  {
   "cell_type": "code",
   "execution_count": null,
   "metadata": {
    "id": "iosmen7MJ0Vs"
   },
   "outputs": [],
   "source": [
    "temp_test.drop('mix',axis=1,inplace=True)"
   ]
  },
  {
   "cell_type": "code",
   "execution_count": null,
   "metadata": {
    "colab": {
     "base_uri": "https://localhost:8080/"
    },
    "executionInfo": {
     "elapsed": 618,
     "status": "ok",
     "timestamp": 1608906200741,
     "user": {
      "displayName": "Abderrahmane HAJJI",
      "photoUrl": "",
      "userId": "15675344311234361853"
     },
     "user_tz": -60
    },
    "id": "rq8vmE4dJ0Vs",
    "outputId": "f99eff5d-cd26-4712-8995-b716cd175192"
   },
   "outputs": [
    {
     "name": "stdout",
     "output_type": "stream",
     "text": [
      "\n",
      "---------------------train data---------------------\n",
      "<class 'pandas.core.frame.DataFrame'>\n",
      "                      id  ... label\n",
      "0   gudj6np7lx4ov5a9y3wq  ...     1\n",
      "1   mi2z51y4jb7thxuf8ldr  ...     1\n",
      "2  ziuab84tvf07snxjhyodp  ...     0\n",
      "3   ulcdyxnbz6jqh9wmk4pa  ...     1\n",
      "4  gj8rfxzae4vibtohk62n1  ...     0\n",
      "\n",
      "[5 rows x 3 columns]\n",
      "\n",
      "---------------------test data---------------------\n",
      "<class 'pandas.core.frame.DataFrame'>\n",
      "                      ID                                            feature\n",
      "0   4s8mxnikbt0f61qu2ea5  [-552.4038606845866, 84.40007887342473, -2.514...\n",
      "1  wcr5syvak4mq0tozn6i3d  [-463.5203626494304, 58.23518897053603, -20.05...\n",
      "2  qt6vl4jushkf7g5webcym  [-426.41583149716746, 85.48748186416807, -15.4...\n",
      "3   i84wvt3sa7golhud9x1f  [-389.3388445500635, 43.02248373782924, -15.78...\n",
      "4   o6013rbhaz94tlqmg8nc  [-432.2047792489387, 54.85769008027221, 10.856...\n",
      "---------------------Checking for NONE values---------------------\n",
      "Empty DataFrame\n",
      "Columns: [id, feature, label]\n",
      "Index: []\n"
     ]
    }
   ],
   "source": [
    "print(\"\\n---------------------train data---------------------\")\n",
    "print(type(temp))\n",
    "print(temp.head())\n",
    "\n",
    "print(\"\\n---------------------test data---------------------\")\n",
    "print(type(temp_test))\n",
    "print(temp_test.head())\n",
    "\n",
    "\n",
    "print('---------------------Checking for NONE values---------------------')\n",
    "# checking for NONE values\n",
    "print(temp[temp.label.isnull()])\n",
    "\n",
    "# removing NONE values from temp\n",
    "temp = temp[temp.label.notnull()]\n",
    "temp_test = temp_test[temp_test.notnull()]\n",
    "#print(temp.ID[temp.label.isnull()])"
   ]
  },
  {
   "cell_type": "code",
   "execution_count": null,
   "metadata": {
    "id": "BieIUBMjJ0Vt"
   },
   "outputs": [],
   "source": [
    "# Label Encoding the audio data\n",
    "lb = LabelEncoder()\n",
    "\n",
    "# converting pd.series into np.array for faster processing\n",
    "X = np.array(temp.feature.tolist())\n",
    "y = np.array(temp.label.tolist())\n",
    "Xtest=np.array(temp_test.feature.tolist())"
   ]
  },
  {
   "cell_type": "code",
   "execution_count": null,
   "metadata": {
    "id": "DiGTKOs1J0Vt"
   },
   "outputs": [],
   "source": [
    "X_train, X_test, y_train, y_test  = train_test_split(X,y, test_size=0.3)"
   ]
  },
  {
   "cell_type": "markdown",
   "metadata": {
    "id": "k90A97afXnMq"
   },
   "source": [
    "Machine learning algorithms"
   ]
  },
  {
   "cell_type": "code",
   "execution_count": null,
   "metadata": {
    "id": "bysyHIf8Xz2K"
   },
   "outputs": [],
   "source": [
    "from sklearn.feature_extraction.text import TfidfVectorizer\n",
    "import matplotlib.pyplot as plt\n",
    "from sklearn.ensemble import RandomForestRegressor\n",
    "from sklearn.linear_model import LogisticRegressionCV\n",
    "import xgboost as xgb\n",
    "from sklearn.naive_bayes import MultinomialNB,BernoulliNB\n",
    "from sklearn import metrics\n",
    "from sklearn.tree import DecisionTreeClassifier\n",
    "from sklearn.naive_bayes import GaussianNB\n",
    "from nltk.stem import SnowballStemmer"
   ]
  },
  {
   "cell_type": "code",
   "execution_count": null,
   "metadata": {
    "id": "Zbz_x70zX9Pj"
   },
   "outputs": [],
   "source": [
    "mlscores=[]"
   ]
  },
  {
   "cell_type": "code",
   "execution_count": null,
   "metadata": {
    "colab": {
     "base_uri": "https://localhost:8080/",
     "height": 329
    },
    "executionInfo": {
     "elapsed": 8930,
     "status": "ok",
     "timestamp": 1608907980489,
     "user": {
      "displayName": "Abderrahmane HAJJI",
      "photoUrl": "",
      "userId": "15675344311234361853"
     },
     "user_tz": -60
    },
    "id": "nSmOJX_jXxTR",
    "outputId": "52e58d23-ea07-42b6-ff63-883fd20b4e63"
   },
   "outputs": [
    {
     "name": "stdout",
     "output_type": "stream",
     "text": [
      "best alpha is  0.001\n"
     ]
    },
    {
     "data": {
      "text/plain": [
       "Text(0, 0.5, 'acc')"
      ]
     },
     "execution_count": 221,
     "metadata": {
      "tags": []
     },
     "output_type": "execute_result"
    },
    {
     "data": {
      "image/png": "[encoded data removed]",
      "text/plain": [
       "<Figure size 432x288 with 1 Axes>"
      ]
     },
     "metadata": {
      "needs_background": "light",
      "tags": []
     },
     "output_type": "display_data"
    }
   ],
   "source": [
    "alphas=[x for x in range(1,5000,1)]\n",
    "clfx = [(metrics.f1_score(y_test,BernoulliNB(alpha=alpha/1000).fit(X_train, y_train)\n",
    ".predict(X_test))) for alpha in alphas]\n",
    "print(\"best alpha is \" ,alphas[clfx.index(max(clfx))]/1000)\n",
    "clfx = pd.Series(clfx, index = alphas)\n",
    "clfx.plot(title = \"Validation\")\n",
    "plt.xlabel(\"alpha\")\n",
    "plt.ylabel(\"acc\")"
   ]
  },
  {
   "cell_type": "code",
   "execution_count": null,
   "metadata": {
    "colab": {
     "base_uri": "https://localhost:8080/"
    },
    "executionInfo": {
     "elapsed": 8674,
     "status": "ok",
     "timestamp": 1608907980490,
     "user": {
      "displayName": "Abderrahmane HAJJI",
      "photoUrl": "",
      "userId": "15675344311234361853"
     },
     "user_tz": -60
    },
    "id": "DaVSXdERYSu4",
    "outputId": "720ffab7-4121-4c3c-9963-26f30fd7c8a0"
   },
   "outputs": [
    {
     "name": "stdout",
     "output_type": "stream",
     "text": [
      "Bernoulli F1 score: 0.465\n",
      "Precision: 0.5882352941176471\n",
      "Recall: 0.38461538461538464\n",
      "confusion matrix: [[11  7]\n",
      " [16 10]]\n",
      "              precision    recall  f1-score   support\n",
      "\n",
      "           0       0.41      0.61      0.49        18\n",
      "           1       0.59      0.38      0.47        26\n",
      "\n",
      "    accuracy                           0.48        44\n",
      "   macro avg       0.50      0.50      0.48        44\n",
      "weighted avg       0.51      0.48      0.47        44\n",
      "\n"
     ]
    }
   ],
   "source": [
    "bnb_imp = BernoulliNB(alpha=0.001) \n",
    "bnb_imp.fit(X_train, y_train)\n",
    "y_pred = bnb_imp.predict(X_test)\n",
    "print(\"Bernoulli F1 score: %.3f\" % metrics.f1_score(y_test, y_pred))\n",
    "print(\"Precision:\",metrics.precision_score(y_test, y_pred))\n",
    "print(\"Recall:\",metrics.recall_score(y_test, y_pred))\n",
    "print(\"confusion matrix:\",metrics.confusion_matrix(y_test, y_pred))\n",
    "print(metrics.classification_report(y_test, y_pred))\n",
    "mlscores.append([\"BernoulliNB\",metrics.f1_score(y_test, y_pred),metrics.precision_score(y_test, y_pred),metrics.recall_score(y_test, y_pred)])"
   ]
  },
  {
   "cell_type": "code",
   "execution_count": null,
   "metadata": {
    "colab": {
     "base_uri": "https://localhost:8080/"
    },
    "executionInfo": {
     "elapsed": 873,
     "status": "ok",
     "timestamp": 1608907981377,
     "user": {
      "displayName": "Abderrahmane HAJJI",
      "photoUrl": "",
      "userId": "15675344311234361853"
     },
     "user_tz": -60
    },
    "id": "BZAKArkdYdO5",
    "outputId": "83375e7e-cd3d-49ea-fb86-46079b4bb893"
   },
   "outputs": [
    {
     "name": "stdout",
     "output_type": "stream",
     "text": [
      "Xgb's F1 score: 0.735\n",
      "Precision: 0.782608695652174\n",
      "Recall: 0.6923076923076923\n",
      "confusion matrix: [[13  5]\n",
      " [ 8 18]]\n",
      "              precision    recall  f1-score   support\n",
      "\n",
      "           0       0.62      0.72      0.67        18\n",
      "           1       0.78      0.69      0.73        26\n",
      "\n",
      "    accuracy                           0.70        44\n",
      "   macro avg       0.70      0.71      0.70        44\n",
      "weighted avg       0.72      0.70      0.71        44\n",
      "\n"
     ]
    }
   ],
   "source": [
    "xgb_cl= xgb.XGBClassifier()\n",
    "xgb_cl.fit(X_train, y_train)\n",
    "y_pred = xgb_cl.predict(X_test)\n",
    "print(\"Xgb's F1 score: %.3f\" % metrics.f1_score(y_test, y_pred))\n",
    "print(\"Precision:\",metrics.precision_score(y_test, y_pred))\n",
    "print(\"Recall:\",metrics.recall_score(y_test, y_pred))\n",
    "print(\"confusion matrix:\",metrics.confusion_matrix(y_test, y_pred))\n",
    "print(metrics.classification_report(y_test, y_pred))\n",
    "mlscores.append([\"XGBclassifier\",metrics.f1_score(y_test, y_pred),metrics.precision_score(y_test, y_pred),metrics.recall_score(y_test, y_pred)])"
   ]
  },
  {
   "cell_type": "code",
   "execution_count": null,
   "metadata": {
    "colab": {
     "base_uri": "https://localhost:8080/"
    },
    "executionInfo": {
     "elapsed": 2371,
     "status": "ok",
     "timestamp": 1608907983919,
     "user": {
      "displayName": "Abderrahmane HAJJI",
      "photoUrl": "",
      "userId": "15675344311234361853"
     },
     "user_tz": -60
    },
    "id": "G-ABcpY7Y35p",
    "outputId": "703c1931-1c2a-4cb6-8b96-a79feb81e053"
   },
   "outputs": [
    {
     "name": "stderr",
     "output_type": "stream",
     "text": [
      "[Parallel(n_jobs=-1)]: Using backend LokyBackend with 2 concurrent workers.\n"
     ]
    },
    {
     "name": "stdout",
     "output_type": "stream",
     "text": [
      "[LibLinear]Bernoulli F1 score: 0.816\n",
      "Precision: 0.8695652173913043\n",
      "Recall: 0.7692307692307693\n",
      "confusion matrix: [[15  3]\n",
      " [ 6 20]]\n",
      "              precision    recall  f1-score   support\n",
      "\n",
      "           0       0.71      0.83      0.77        18\n",
      "           1       0.87      0.77      0.82        26\n",
      "\n",
      "    accuracy                           0.80        44\n",
      "   macro avg       0.79      0.80      0.79        44\n",
      "weighted avg       0.81      0.80      0.80        44\n",
      "\n"
     ]
    },
    {
     "name": "stderr",
     "output_type": "stream",
     "text": [
      "[Parallel(n_jobs=-1)]: Done  10 out of  10 | elapsed:    1.5s finished\n"
     ]
    }
   ],
   "source": [
    "LRCV = LogisticRegressionCV(\n",
    "                            cv=10,\n",
    "                            scoring='balanced_accuracy',\n",
    "                            random_state=0,\n",
    "                            n_jobs=-1,\n",
    "                            verbose=3,\n",
    "                            solver=\"liblinear\",\n",
    "                            max_iter=300).fit(X_train,y_train)\n",
    "y_pred = LRCV.predict(X_test)\n",
    "print(\"Bernoulli F1 score: %.3f\" % metrics.f1_score(y_test, y_pred))\n",
    "print(\"Precision:\",metrics.precision_score(y_test, y_pred))\n",
    "print(\"Recall:\",metrics.recall_score(y_test, y_pred))\n",
    "print(\"confusion matrix:\",metrics.confusion_matrix(y_test, y_pred))\n",
    "print(metrics.classification_report(y_test, y_pred))\n",
    "mlscores.append([\"LogisticRegressionCV\",metrics.f1_score(y_test, y_pred),metrics.precision_score(y_test, y_pred),metrics.recall_score(y_test, y_pred)])"
   ]
  },
  {
   "cell_type": "code",
   "execution_count": null,
   "metadata": {
    "id": "JYuDYR2zY8d5"
   },
   "outputs": [],
   "source": [
    "def closeonezero(y_pred):\n",
    "  for i in range(len(y_pred)):\n",
    "    if (y_pred[i]<0.5):\n",
    "      y_pred[i]=0\n",
    "    else:\n",
    "      y_pred[i]=1\n",
    "  return y_pred"
   ]
  },
  {
   "cell_type": "code",
   "execution_count": null,
   "metadata": {
    "colab": {
     "base_uri": "https://localhost:8080/"
    },
    "executionInfo": {
     "elapsed": 897,
     "status": "ok",
     "timestamp": 1608908001133,
     "user": {
      "displayName": "Abderrahmane HAJJI",
      "photoUrl": "",
      "userId": "15675344311234361853"
     },
     "user_tz": -60
    },
    "id": "fUyBnIKrY6Fh",
    "outputId": "26df9802-34e2-4dcb-b058-74b58557ae22"
   },
   "outputs": [
    {
     "name": "stdout",
     "output_type": "stream",
     "text": [
      "Bernoulli F1 score: 0.760\n",
      "Precision: 0.7916666666666666\n",
      "Recall: 0.7307692307692307\n",
      "confusion matrix: [[13  5]\n",
      " [ 7 19]]\n",
      "              precision    recall  f1-score   support\n",
      "\n",
      "           0       0.65      0.72      0.68        18\n",
      "           1       0.79      0.73      0.76        26\n",
      "\n",
      "    accuracy                           0.73        44\n",
      "   macro avg       0.72      0.73      0.72        44\n",
      "weighted avg       0.73      0.73      0.73        44\n",
      "\n"
     ]
    }
   ],
   "source": [
    "regr = RandomForestRegressor(n_jobs=-1, random_state=0)\n",
    "regr.fit(X_train, y_train)\n",
    "y_pred = regr.predict(X_test)\n",
    "print(\"Bernoulli F1 score: %.3f\" % metrics.f1_score(y_test, closeonezero(y_pred)))\n",
    "print(\"Precision:\",metrics.precision_score(y_test, y_pred))\n",
    "print(\"Recall:\",metrics.recall_score(y_test, y_pred))\n",
    "print(\"confusion matrix:\",metrics.confusion_matrix(y_test, y_pred))\n",
    "print(metrics.classification_report(y_test, y_pred))\n",
    "mlscores.append([\"RandomForestregression\",metrics.f1_score(y_test, y_pred),metrics.precision_score(y_test, y_pred),metrics.recall_score(y_test, y_pred)])"
   ]
  },
  {
   "cell_type": "code",
   "execution_count": null,
   "metadata": {
    "colab": {
     "base_uri": "https://localhost:8080/",
     "height": 173
    },
    "executionInfo": {
     "elapsed": 614,
     "status": "ok",
     "timestamp": 1608908014504,
     "user": {
      "displayName": "Abderrahmane HAJJI",
      "photoUrl": "",
      "userId": "15675344311234361853"
     },
     "user_tz": -60
    },
    "id": "L7B6bUkxY_2E",
    "outputId": "4b67c052-e4f4-4dc7-da1f-014dbd37f1e3"
   },
   "outputs": [
    {
     "data": {
      "text/html": [
       "<div>\n",
       "<style scoped>\n",
       "    .dataframe tbody tr th:only-of-type {\n",
       "        vertical-align: middle;\n",
       "    }\n",
       "\n",
       "    .dataframe tbody tr th {\n",
       "        vertical-align: top;\n",
       "    }\n",
       "\n",
       "    .dataframe thead th {\n",
       "        text-align: right;\n",
       "    }\n",
       "</style>\n",
       "<table border=\"1\" class=\"dataframe\">\n",
       "  <thead>\n",
       "    <tr style=\"text-align: right;\">\n",
       "      <th></th>\n",
       "      <th>0</th>\n",
       "      <th>1</th>\n",
       "      <th>2</th>\n",
       "      <th>3</th>\n",
       "    </tr>\n",
       "  </thead>\n",
       "  <tbody>\n",
       "    <tr>\n",
       "      <th>2</th>\n",
       "      <td>LogisticRegressionCV</td>\n",
       "      <td>0.816327</td>\n",
       "      <td>0.869565</td>\n",
       "      <td>0.769231</td>\n",
       "    </tr>\n",
       "    <tr>\n",
       "      <th>3</th>\n",
       "      <td>RandomForestregression</td>\n",
       "      <td>0.760000</td>\n",
       "      <td>0.791667</td>\n",
       "      <td>0.730769</td>\n",
       "    </tr>\n",
       "    <tr>\n",
       "      <th>1</th>\n",
       "      <td>XGBclassifier</td>\n",
       "      <td>0.734694</td>\n",
       "      <td>0.782609</td>\n",
       "      <td>0.692308</td>\n",
       "    </tr>\n",
       "    <tr>\n",
       "      <th>0</th>\n",
       "      <td>BernoulliNB</td>\n",
       "      <td>0.465116</td>\n",
       "      <td>0.588235</td>\n",
       "      <td>0.384615</td>\n",
       "    </tr>\n",
       "  </tbody>\n",
       "</table>\n",
       "</div>"
      ],
      "text/plain": [
       "                        0         1         2         3\n",
       "2    LogisticRegressionCV  0.816327  0.869565  0.769231\n",
       "3  RandomForestregression  0.760000  0.791667  0.730769\n",
       "1           XGBclassifier  0.734694  0.782609  0.692308\n",
       "0             BernoulliNB  0.465116  0.588235  0.384615"
      ]
     },
     "execution_count": 228,
     "metadata": {
      "tags": []
     },
     "output_type": "execute_result"
    }
   ],
   "source": [
    "pd.DataFrame(mlscores).sort_values(by=[1], ascending=False)"
   ]
  },
  {
   "cell_type": "code",
   "execution_count": null,
   "metadata": {
    "id": "6Yd-_gn2Zj90"
   },
   "outputs": [],
   "source": [
    "#Submitting current best\n",
    "\n",
    "\n",
    "y_pred = LRCV.predict(Xtest)\n",
    "res=test.drop(columns=[\"target\"])\n",
    "res[\"label\"]=y_pred\n",
    "res.to_csv(\"/content/mydrive/My Drive/Colab Notebooks/TriggerWordDarija/submissionml.csv\",index=False)"
   ]
  },
  {
   "cell_type": "markdown",
   "metadata": {
    "id": "ys-Iupj_Xgz4"
   },
   "source": [
    "Deep Learning :(garbage cuz there's only 144examples to train from)\n"
   ]
  },
  {
   "cell_type": "code",
   "execution_count": null,
   "metadata": {
    "id": "7LNBVgYsSXBa"
   },
   "outputs": [],
   "source": [
    "from keras.callbacks import ModelCheckpoint\n",
    "from keras.models import Model, load_model, Sequential\n",
    "from keras.layers import Dense, Activation, Dropout, Input, Masking, TimeDistributed, LSTM, Conv1D\n",
    "from keras.layers import GRU, Bidirectional, BatchNormalization, Reshape\n",
    "from keras.optimizers import Adam\n",
    "from keras.layers.convolutional import Conv1D, MaxPooling1D\n",
    "from keras import regularizers\n",
    "from keras.layers import Lambda\n",
    "import keras.backend as K"
   ]
  },
  {
   "cell_type": "code",
   "execution_count": null,
   "metadata": {
    "id": "SzSg_b9aSVyS"
   },
   "outputs": [],
   "source": [
    "def categorical_classifier():\n",
    "    model = Sequential()\n",
    "\n",
    "    # input and first hidden layer\n",
    "    model.add(Dense(input_shape=(40,), units=256, activation='relu', kernel_initializer='uniform'))\n",
    "    model.add(Dropout(0.5))\n",
    "\n",
    "    # second hidden layer\n",
    "    model.add(Dense(units=256,activation='relu',kernel_initializer='uniform'))\n",
    "    model.add(Dropout(0.5))\n",
    "\n",
    "    # output layer\n",
    "    model.add(Dense(units=num_labels, activation='softmax'))\n",
    "\n",
    "    # compiling our model\n",
    "    model.compile(loss='categorical_crossentropy', metrics=['accuracy'], optimizer='adam')\n",
    "\n",
    "    # training the data\n",
    "    #model.fit(X,y, batch_size=32, epochs=500, validation_split=0.3)\n",
    "    return model"
   ]
  },
  {
   "cell_type": "code",
   "execution_count": null,
   "metadata": {
    "id": "TkEIoFw6UNs_"
   },
   "outputs": [],
   "source": [
    "def m5(num_classes=5):\n",
    "    print('Using Model M5')\n",
    "    m = Sequential()\n",
    "    m.add(Conv1D(128,\n",
    "                 input_shape=[40, 1],\n",
    "                 kernel_size=80,\n",
    "                 strides=4,\n",
    "                 padding='same',\n",
    "                 kernel_initializer='glorot_uniform',\n",
    "                 kernel_regularizer=regularizers.l2(l=0.0001)))\n",
    "    m.add(BatchNormalization())\n",
    "    m.add(Activation('relu'))\n",
    "    m.add(MaxPooling1D(pool_size=1, strides=None))\n",
    "    m.add(Conv1D(128,\n",
    "                 kernel_size=3,\n",
    "                 strides=1,\n",
    "                 padding='same',\n",
    "                 kernel_initializer='glorot_uniform',\n",
    "                 kernel_regularizer=regularizers.l2(l=0.0001)))\n",
    "    m.add(BatchNormalization())\n",
    "    m.add(Activation('relu'))\n",
    "    m.add(MaxPooling1D(pool_size=1, strides=None))\n",
    "    m.add(Conv1D(256,\n",
    "                 kernel_size=3,\n",
    "                 strides=1,\n",
    "                 padding='same',\n",
    "                 kernel_initializer='glorot_uniform',\n",
    "                 kernel_regularizer=regularizers.l2(l=0.0001)))\n",
    "    m.add(BatchNormalization())\n",
    "    m.add(Activation('relu'))\n",
    "    m.add(MaxPooling1D(pool_size=1, strides=None))\n",
    "    m.add(Conv1D(512,\n",
    "                 kernel_size=3,\n",
    "                 strides=1,\n",
    "                 padding='same',\n",
    "                 kernel_initializer='glorot_uniform',\n",
    "                 kernel_regularizer=regularizers.l2(l=0.0001)))\n",
    "    m.add(BatchNormalization())\n",
    "    m.add(Activation('relu'))\n",
    "    m.add(MaxPooling1D(pool_size=1, strides=None))\n",
    "    m.add(Lambda(lambda x: K.mean(x, axis=1)))  # Same as GAP for 1D Conv Layer\n",
    "    m.add(Dense(num_classes, activation='softmax'))\n",
    "    return m\n"
   ]
  },
  {
   "cell_type": "code",
   "execution_count": null,
   "metadata": {
    "id": "8phcYfE-SSA6"
   },
   "outputs": [],
   "source": [
    "model = categorical_classifier()"
   ]
  },
  {
   "cell_type": "code",
   "execution_count": null,
   "metadata": {
    "colab": {
     "base_uri": "https://localhost:8080/"
    },
    "executionInfo": {
     "elapsed": 745,
     "status": "ok",
     "timestamp": 1608907099332,
     "user": {
      "displayName": "Abderrahmane HAJJI",
      "photoUrl": "",
      "userId": "15675344311234361853"
     },
     "user_tz": -60
    },
    "id": "uSJi-brcSzkf",
    "outputId": "d29e9095-9d99-49f7-9d74-961011e57984"
   },
   "outputs": [
    {
     "name": "stdout",
     "output_type": "stream",
     "text": [
      "Model: \"sequential_11\"\n",
      "_________________________________________________________________\n",
      "Layer (type)                 Output Shape              Param #   \n",
      "=================================================================\n",
      "dense_11 (Dense)             (None, 256)               10496     \n",
      "_________________________________________________________________\n",
      "dropout_11 (Dropout)         (None, 256)               0         \n",
      "_________________________________________________________________\n",
      "dense_12 (Dense)             (None, 256)               65792     \n",
      "_________________________________________________________________\n",
      "dropout_12 (Dropout)         (None, 256)               0         \n",
      "_________________________________________________________________\n",
      "dense_13 (Dense)             (None, 2)                 514       \n",
      "=================================================================\n",
      "Total params: 76,802\n",
      "Trainable params: 76,802\n",
      "Non-trainable params: 0\n",
      "_________________________________________________________________\n"
     ]
    }
   ],
   "source": [
    "model.summary()"
   ]
  },
  {
   "cell_type": "code",
   "execution_count": null,
   "metadata": {
    "id": "ptKa-kOUSjpu"
   },
   "outputs": [],
   "source": [
    "opt = Adam(lr=0.0001, beta_1=0.9, beta_2=0.999, decay=0.01)\n",
    "model.compile(loss='binary_crossentropy', optimizer=opt, metrics=[\"accuracy\"])"
   ]
  },
  {
   "cell_type": "code",
   "execution_count": null,
   "metadata": {
    "id": "mqyjAYHzJ0Vu"
   },
   "outputs": [],
   "source": [
    "# training the data\n",
    "model.fit(x_train,y_train, batch_size=32, epochs=650, validation_data=(x_test, y_test))"
   ]
  },
  {
   "cell_type": "code",
   "execution_count": null,
   "metadata": {
    "id": "eZ7ZqkdHSOvx"
   },
   "outputs": [],
   "source": []
  }
 ],
 "metadata": {
  "colab": {
   "name": "TriggerWordDarija2.ipynb",
   "provenance": []
  },
  "kernelspec": {
   "display_name": "Python 3",
   "language": "python",
   "name": "python3"
  },
  "language_info": {
   "codemirror_mode": {
    "name": "ipython",
    "version": 3
   },
   "file_extension": ".py",
   "mimetype": "text/x-python",
   "name": "python",
   "nbconvert_exporter": "python",
   "pygments_lexer": "ipython3",
   "version": "3.8.6"
  }
 },
 "nbformat": 4,
 "nbformat_minor": 1
}
